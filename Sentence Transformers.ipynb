{
 "cells": [
  {
   "cell_type": "code",
   "execution_count": 57,
   "metadata": {},
   "outputs": [],
   "source": [
    "from sentence_transformers import SentenceTransformer , util"
   ]
  },
  {
   "cell_type": "code",
   "execution_count": 63,
   "metadata": {},
   "outputs": [],
   "source": [
    "st = SentenceTransformer('all-MiniLM-L6-v2')"
   ]
  },
  {
   "cell_type": "code",
   "execution_count": 64,
   "metadata": {},
   "outputs": [
    {
     "data": {
      "text/plain": [
       "tensor([[ 0.0354, -0.0271, -0.0002,  ...,  0.0737,  0.0113, -0.0167],\n",
       "        [ 0.0104, -0.0564, -0.0142,  ..., -0.0076, -0.0492, -0.0563],\n",
       "        [-0.0301, -0.0307, -0.0298,  ...,  0.0474, -0.0976, -0.0796],\n",
       "        [ 0.0227, -0.0014, -0.0056,  ..., -0.0225,  0.0846, -0.0283]],\n",
       "       device='cuda:0')"
      ]
     },
     "execution_count": 64,
     "metadata": {},
     "output_type": "execute_result"
    }
   ],
   "source": [
    "sent1 = ['I want to have a cat','I love to read books','I can help you with that','A man is playing guitar']\n",
    "vector_embeddings1 = st.encode(sent1, convert_to_tensor=True)\n",
    "vector_embeddings1"
   ]
  },
  {
   "cell_type": "code",
   "execution_count": 65,
   "metadata": {},
   "outputs": [
    {
     "data": {
      "text/plain": [
       "tensor([[ 0.0540,  0.0600, -0.0300,  ..., -0.0539, -0.0096, -0.0340],\n",
       "        [-0.0084,  0.0278,  0.0148,  ..., -0.0440, -0.0020,  0.0110],\n",
       "        [-0.0355,  0.1274, -0.0105,  ...,  0.0789,  0.0597, -0.0473],\n",
       "        [ 0.0135, -0.1043,  0.0115,  ...,  0.0068, -0.0216, -0.0371]],\n",
       "       device='cuda:0')"
      ]
     },
     "execution_count": 65,
     "metadata": {},
     "output_type": "execute_result"
    }
   ],
   "source": [
    "sent2 = ['He goes shopping','I hate books','I help him with his homework','A women watches TV']\n",
    "vector_embeddings2 = st.encode(sent2,convert_to_tensor=True)\n",
    "vector_embeddings2"
   ]
  },
  {
   "cell_type": "code",
   "execution_count": 66,
   "metadata": {},
   "outputs": [
    {
     "name": "stdout",
     "output_type": "stream",
     "text": [
      "Scores: \n",
      " tensor([[ 0.0742,  0.1195,  0.0784,  0.0377],\n",
      "        [ 0.1345,  0.6934,  0.2218,  0.1392],\n",
      "        [ 0.0813,  0.0363,  0.3455, -0.0028],\n",
      "        [ 0.1877, -0.0227,  0.1217, -0.0530]], device='cuda:0')\n"
     ]
    }
   ],
   "source": [
    "scores = util.cos_sim(vector_embeddings1, vector_embeddings2)\n",
    "print('Scores: \\n',scores)"
   ]
  },
  {
   "cell_type": "code",
   "execution_count": 67,
   "metadata": {},
   "outputs": [
    {
     "name": "stdout",
     "output_type": "stream",
     "text": [
      "I want to have a cat \t\t He goes shopping \t\t Score: 0.0742\n",
      "I love to read books \t\t I hate books \t\t Score: 0.6934\n",
      "I can help you with that \t\t I help him with his homework \t\t Score: 0.3455\n",
      "A man is playing guitar \t\t A women watches TV \t\t Score: -0.0530\n"
     ]
    }
   ],
   "source": [
    "for i in range(len(sent1)):\n",
    "    print(\"{} \\t\\t {} \\t\\t Score: {:.4f}\".format(sent1[i],\n",
    "                                                 sent2[i],\n",
    "                                                scores[i][i]))"
   ]
  },
  {
   "cell_type": "code",
   "execution_count": null,
   "metadata": {},
   "outputs": [],
   "source": []
  }
 ],
 "metadata": {
  "kernelspec": {
   "display_name": "Python 3",
   "language": "python",
   "name": "python3"
  },
  "language_info": {
   "codemirror_mode": {
    "name": "ipython",
    "version": 3
   },
   "file_extension": ".py",
   "mimetype": "text/x-python",
   "name": "python",
   "nbconvert_exporter": "python",
   "pygments_lexer": "ipython3",
   "version": "3.11.0"
  }
 },
 "nbformat": 4,
 "nbformat_minor": 2
}
